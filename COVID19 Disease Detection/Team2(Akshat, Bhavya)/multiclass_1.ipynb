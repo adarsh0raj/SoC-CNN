{
  "nbformat": 4,
  "nbformat_minor": 0,
  "metadata": {
    "colab": {
      "name": "Covid project Multiclass.ipynb",
      "provenance": [],
      "collapsed_sections": [],
      "include_colab_link": true
    },
    "kernelspec": {
      "name": "python3",
      "display_name": "Python 3"
    },
    "language_info": {
      "name": "python"
    },
    "widgets": {
      "application/vnd.jupyter.widget-state+json": {
        "05db9794215c45f69f092cc9fbea6627": {
          "model_module": "@jupyter-widgets/controls",
          "model_name": "HBoxModel",
          "state": {
            "_view_name": "HBoxView",
            "_dom_classes": [],
            "_model_name": "HBoxModel",
            "_view_module": "@jupyter-widgets/controls",
            "_model_module_version": "1.5.0",
            "_view_count": null,
            "_view_module_version": "1.5.0",
            "box_style": "",
            "layout": "IPY_MODEL_678942f9564e4549865b4e1fe8bb5d59",
            "_model_module": "@jupyter-widgets/controls",
            "children": [
              "IPY_MODEL_ca9f89a17c9d476592109eeddc4de501",
              "IPY_MODEL_75bccf5256ef4988bcd33d6ef87d54a6"
            ]
          }
        },
        "678942f9564e4549865b4e1fe8bb5d59": {
          "model_module": "@jupyter-widgets/base",
          "model_name": "LayoutModel",
          "state": {
            "_view_name": "LayoutView",
            "grid_template_rows": null,
            "right": null,
            "justify_content": null,
            "_view_module": "@jupyter-widgets/base",
            "overflow": null,
            "_model_module_version": "1.2.0",
            "_view_count": null,
            "flex_flow": null,
            "width": null,
            "min_width": null,
            "border": null,
            "align_items": null,
            "bottom": null,
            "_model_module": "@jupyter-widgets/base",
            "top": null,
            "grid_column": null,
            "overflow_y": null,
            "overflow_x": null,
            "grid_auto_flow": null,
            "grid_area": null,
            "grid_template_columns": null,
            "flex": null,
            "_model_name": "LayoutModel",
            "justify_items": null,
            "grid_row": null,
            "max_height": null,
            "align_content": null,
            "visibility": null,
            "align_self": null,
            "height": null,
            "min_height": null,
            "padding": null,
            "grid_auto_rows": null,
            "grid_gap": null,
            "max_width": null,
            "order": null,
            "_view_module_version": "1.2.0",
            "grid_template_areas": null,
            "object_position": null,
            "object_fit": null,
            "grid_auto_columns": null,
            "margin": null,
            "display": null,
            "left": null
          }
        },
        "ca9f89a17c9d476592109eeddc4de501": {
          "model_module": "@jupyter-widgets/controls",
          "model_name": "FloatProgressModel",
          "state": {
            "_view_name": "ProgressView",
            "style": "IPY_MODEL_6258abbde4634db9b2c024589f460a78",
            "_dom_classes": [],
            "description": "100%",
            "_model_name": "FloatProgressModel",
            "bar_style": "success",
            "max": 100,
            "_view_module": "@jupyter-widgets/controls",
            "_model_module_version": "1.5.0",
            "value": 100,
            "_view_count": null,
            "_view_module_version": "1.5.0",
            "orientation": "horizontal",
            "min": 0,
            "description_tooltip": null,
            "_model_module": "@jupyter-widgets/controls",
            "layout": "IPY_MODEL_916a08428b4d4fe68767d5c03e42d713"
          }
        },
        "75bccf5256ef4988bcd33d6ef87d54a6": {
          "model_module": "@jupyter-widgets/controls",
          "model_name": "HTMLModel",
          "state": {
            "_view_name": "HTMLView",
            "style": "IPY_MODEL_d6be490248e94c4987a6b5b080d2957c",
            "_dom_classes": [],
            "description": "",
            "_model_name": "HTMLModel",
            "placeholder": "​",
            "_view_module": "@jupyter-widgets/controls",
            "_model_module_version": "1.5.0",
            "value": " 100/100 [04:53&lt;00:00,  2.93s/epoch, loss=0.00283, accuracy=1, val_loss=0.292, val_accuracy=0.944]",
            "_view_count": null,
            "_view_module_version": "1.5.0",
            "description_tooltip": null,
            "_model_module": "@jupyter-widgets/controls",
            "layout": "IPY_MODEL_e23f19d547544c8487b4f8ae582ad7a9"
          }
        },
        "6258abbde4634db9b2c024589f460a78": {
          "model_module": "@jupyter-widgets/controls",
          "model_name": "ProgressStyleModel",
          "state": {
            "_view_name": "StyleView",
            "_model_name": "ProgressStyleModel",
            "description_width": "initial",
            "_view_module": "@jupyter-widgets/base",
            "_model_module_version": "1.5.0",
            "_view_count": null,
            "_view_module_version": "1.2.0",
            "bar_color": null,
            "_model_module": "@jupyter-widgets/controls"
          }
        },
        "916a08428b4d4fe68767d5c03e42d713": {
          "model_module": "@jupyter-widgets/base",
          "model_name": "LayoutModel",
          "state": {
            "_view_name": "LayoutView",
            "grid_template_rows": null,
            "right": null,
            "justify_content": null,
            "_view_module": "@jupyter-widgets/base",
            "overflow": null,
            "_model_module_version": "1.2.0",
            "_view_count": null,
            "flex_flow": null,
            "width": null,
            "min_width": null,
            "border": null,
            "align_items": null,
            "bottom": null,
            "_model_module": "@jupyter-widgets/base",
            "top": null,
            "grid_column": null,
            "overflow_y": null,
            "overflow_x": null,
            "grid_auto_flow": null,
            "grid_area": null,
            "grid_template_columns": null,
            "flex": null,
            "_model_name": "LayoutModel",
            "justify_items": null,
            "grid_row": null,
            "max_height": null,
            "align_content": null,
            "visibility": null,
            "align_self": null,
            "height": null,
            "min_height": null,
            "padding": null,
            "grid_auto_rows": null,
            "grid_gap": null,
            "max_width": null,
            "order": null,
            "_view_module_version": "1.2.0",
            "grid_template_areas": null,
            "object_position": null,
            "object_fit": null,
            "grid_auto_columns": null,
            "margin": null,
            "display": null,
            "left": null
          }
        },
        "d6be490248e94c4987a6b5b080d2957c": {
          "model_module": "@jupyter-widgets/controls",
          "model_name": "DescriptionStyleModel",
          "state": {
            "_view_name": "StyleView",
            "_model_name": "DescriptionStyleModel",
            "description_width": "",
            "_view_module": "@jupyter-widgets/base",
            "_model_module_version": "1.5.0",
            "_view_count": null,
            "_view_module_version": "1.2.0",
            "_model_module": "@jupyter-widgets/controls"
          }
        },
        "e23f19d547544c8487b4f8ae582ad7a9": {
          "model_module": "@jupyter-widgets/base",
          "model_name": "LayoutModel",
          "state": {
            "_view_name": "LayoutView",
            "grid_template_rows": null,
            "right": null,
            "justify_content": null,
            "_view_module": "@jupyter-widgets/base",
            "overflow": null,
            "_model_module_version": "1.2.0",
            "_view_count": null,
            "flex_flow": null,
            "width": null,
            "min_width": null,
            "border": null,
            "align_items": null,
            "bottom": null,
            "_model_module": "@jupyter-widgets/base",
            "top": null,
            "grid_column": null,
            "overflow_y": null,
            "overflow_x": null,
            "grid_auto_flow": null,
            "grid_area": null,
            "grid_template_columns": null,
            "flex": null,
            "_model_name": "LayoutModel",
            "justify_items": null,
            "grid_row": null,
            "max_height": null,
            "align_content": null,
            "visibility": null,
            "align_self": null,
            "height": null,
            "min_height": null,
            "padding": null,
            "grid_auto_rows": null,
            "grid_gap": null,
            "max_width": null,
            "order": null,
            "_view_module_version": "1.2.0",
            "grid_template_areas": null,
            "object_position": null,
            "object_fit": null,
            "grid_auto_columns": null,
            "margin": null,
            "display": null,
            "left": null
          }
        },
        "4c2c6f02b68d4c2aab38748476de4120": {
          "model_module": "@jupyter-widgets/controls",
          "model_name": "HBoxModel",
          "state": {
            "_view_name": "HBoxView",
            "_dom_classes": [],
            "_model_name": "HBoxModel",
            "_view_module": "@jupyter-widgets/controls",
            "_model_module_version": "1.5.0",
            "_view_count": null,
            "_view_module_version": "1.5.0",
            "box_style": "",
            "layout": "IPY_MODEL_37f52856b18e464090eccbded2f2c64d",
            "_model_module": "@jupyter-widgets/controls",
            "children": [
              "IPY_MODEL_5cc9a77d675644b8b220cd3cb9933100",
              "IPY_MODEL_0187dd1165184b108e83e5206ce1d2a7"
            ]
          }
        },
        "37f52856b18e464090eccbded2f2c64d": {
          "model_module": "@jupyter-widgets/base",
          "model_name": "LayoutModel",
          "state": {
            "_view_name": "LayoutView",
            "grid_template_rows": null,
            "right": null,
            "justify_content": null,
            "_view_module": "@jupyter-widgets/base",
            "overflow": null,
            "_model_module_version": "1.2.0",
            "_view_count": null,
            "flex_flow": null,
            "width": null,
            "min_width": null,
            "border": null,
            "align_items": null,
            "bottom": null,
            "_model_module": "@jupyter-widgets/base",
            "top": null,
            "grid_column": null,
            "overflow_y": null,
            "overflow_x": null,
            "grid_auto_flow": null,
            "grid_area": null,
            "grid_template_columns": null,
            "flex": null,
            "_model_name": "LayoutModel",
            "justify_items": null,
            "grid_row": null,
            "max_height": null,
            "align_content": null,
            "visibility": null,
            "align_self": null,
            "height": null,
            "min_height": null,
            "padding": null,
            "grid_auto_rows": null,
            "grid_gap": null,
            "max_width": null,
            "order": null,
            "_view_module_version": "1.2.0",
            "grid_template_areas": null,
            "object_position": null,
            "object_fit": null,
            "grid_auto_columns": null,
            "margin": null,
            "display": null,
            "left": null
          }
        },
        "5cc9a77d675644b8b220cd3cb9933100": {
          "model_module": "@jupyter-widgets/controls",
          "model_name": "FloatProgressModel",
          "state": {
            "_view_name": "ProgressView",
            "style": "IPY_MODEL_b258be056d3340009a0748456706e854",
            "_dom_classes": [],
            "description": "100%",
            "_model_name": "FloatProgressModel",
            "bar_style": "success",
            "max": 400,
            "_view_module": "@jupyter-widgets/controls",
            "_model_module_version": "1.5.0",
            "value": 400,
            "_view_count": null,
            "_view_module_version": "1.5.0",
            "orientation": "horizontal",
            "min": 0,
            "description_tooltip": null,
            "_model_module": "@jupyter-widgets/controls",
            "layout": "IPY_MODEL_070b2e90b28047d6a2aaca12c552e641"
          }
        },
        "0187dd1165184b108e83e5206ce1d2a7": {
          "model_module": "@jupyter-widgets/controls",
          "model_name": "HTMLModel",
          "state": {
            "_view_name": "HTMLView",
            "style": "IPY_MODEL_f50e2c4e9e4f43bdbb705773bf965bad",
            "_dom_classes": [],
            "description": "",
            "_model_name": "HTMLModel",
            "placeholder": "​",
            "_view_module": "@jupyter-widgets/controls",
            "_model_module_version": "1.5.0",
            "value": " 400/400 [19:26&lt;00:00,  2.92s/epoch, loss=0.0189, accuracy=0.996, val_loss=0.14, val_accuracy=0.96]",
            "_view_count": null,
            "_view_module_version": "1.5.0",
            "description_tooltip": null,
            "_model_module": "@jupyter-widgets/controls",
            "layout": "IPY_MODEL_34e5f274464b4621af75e0a6869d4559"
          }
        },
        "b258be056d3340009a0748456706e854": {
          "model_module": "@jupyter-widgets/controls",
          "model_name": "ProgressStyleModel",
          "state": {
            "_view_name": "StyleView",
            "_model_name": "ProgressStyleModel",
            "description_width": "initial",
            "_view_module": "@jupyter-widgets/base",
            "_model_module_version": "1.5.0",
            "_view_count": null,
            "_view_module_version": "1.2.0",
            "bar_color": null,
            "_model_module": "@jupyter-widgets/controls"
          }
        },
        "070b2e90b28047d6a2aaca12c552e641": {
          "model_module": "@jupyter-widgets/base",
          "model_name": "LayoutModel",
          "state": {
            "_view_name": "LayoutView",
            "grid_template_rows": null,
            "right": null,
            "justify_content": null,
            "_view_module": "@jupyter-widgets/base",
            "overflow": null,
            "_model_module_version": "1.2.0",
            "_view_count": null,
            "flex_flow": null,
            "width": null,
            "min_width": null,
            "border": null,
            "align_items": null,
            "bottom": null,
            "_model_module": "@jupyter-widgets/base",
            "top": null,
            "grid_column": null,
            "overflow_y": null,
            "overflow_x": null,
            "grid_auto_flow": null,
            "grid_area": null,
            "grid_template_columns": null,
            "flex": null,
            "_model_name": "LayoutModel",
            "justify_items": null,
            "grid_row": null,
            "max_height": null,
            "align_content": null,
            "visibility": null,
            "align_self": null,
            "height": null,
            "min_height": null,
            "padding": null,
            "grid_auto_rows": null,
            "grid_gap": null,
            "max_width": null,
            "order": null,
            "_view_module_version": "1.2.0",
            "grid_template_areas": null,
            "object_position": null,
            "object_fit": null,
            "grid_auto_columns": null,
            "margin": null,
            "display": null,
            "left": null
          }
        },
        "f50e2c4e9e4f43bdbb705773bf965bad": {
          "model_module": "@jupyter-widgets/controls",
          "model_name": "DescriptionStyleModel",
          "state": {
            "_view_name": "StyleView",
            "_model_name": "DescriptionStyleModel",
            "description_width": "",
            "_view_module": "@jupyter-widgets/base",
            "_model_module_version": "1.5.0",
            "_view_count": null,
            "_view_module_version": "1.2.0",
            "_model_module": "@jupyter-widgets/controls"
          }
        },
        "34e5f274464b4621af75e0a6869d4559": {
          "model_module": "@jupyter-widgets/base",
          "model_name": "LayoutModel",
          "state": {
            "_view_name": "LayoutView",
            "grid_template_rows": null,
            "right": null,
            "justify_content": null,
            "_view_module": "@jupyter-widgets/base",
            "overflow": null,
            "_model_module_version": "1.2.0",
            "_view_count": null,
            "flex_flow": null,
            "width": null,
            "min_width": null,
            "border": null,
            "align_items": null,
            "bottom": null,
            "_model_module": "@jupyter-widgets/base",
            "top": null,
            "grid_column": null,
            "overflow_y": null,
            "overflow_x": null,
            "grid_auto_flow": null,
            "grid_area": null,
            "grid_template_columns": null,
            "flex": null,
            "_model_name": "LayoutModel",
            "justify_items": null,
            "grid_row": null,
            "max_height": null,
            "align_content": null,
            "visibility": null,
            "align_self": null,
            "height": null,
            "min_height": null,
            "padding": null,
            "grid_auto_rows": null,
            "grid_gap": null,
            "max_width": null,
            "order": null,
            "_view_module_version": "1.2.0",
            "grid_template_areas": null,
            "object_position": null,
            "object_fit": null,
            "grid_auto_columns": null,
            "margin": null,
            "display": null,
            "left": null
          }
        }
      }
    }
  },
  "cells": [
    {
      "cell_type": "markdown",
      "metadata": {
        "id": "view-in-github",
        "colab_type": "text"
      },
      "source": [
        "<a href=\"https://colab.research.google.com/github/adarsh0raj/SoC-CNN/blob/master/multiclass_1.ipynb\" target=\"_parent\"><img src=\"https://colab.research.google.com/assets/colab-badge.svg\" alt=\"Open In Colab\"/></a>"
      ]
    },
    {
      "cell_type": "code",
      "metadata": {
        "colab": {
          "base_uri": "https://localhost:8080/"
        },
        "collapsed": true,
        "id": "hdADgP7c6-Gz",
        "outputId": "e76c5f4a-080e-4bc6-a886-867282d91632"
      },
      "source": [
        "import os\n",
        "os.environ['KAGGLE_CONFIG_DIR'] = '/content'\n",
        "!kaggle datasets download -d tawsifurrahman/covid19-radiography-database \n",
        "!unzip /content/*.zip"
      ],
      "execution_count": null
    },
    {
      "cell_type": "code",
      "metadata": {
        "id": "KxI7GfofyjoC"
      },
      "source": [
        "import numpy as np\n",
        "import tensorflow as tf\n",
        "import cv2 as cv\n",
        "import glob\n",
        "import matplotlib.pyplot as plt\n",
        "from sklearn.model_selection import train_test_split, StratifiedShuffleSplit\n",
        "from tensorflow.keras.utils import to_categorical\n",
        "\n",
        "path = '/content/'"
      ],
      "execution_count": null,
      "outputs": []
    },
    {
      "cell_type": "code",
      "metadata": {
        "colab": {
          "base_uri": "https://localhost:8080/"
        },
        "id": "d8NkynYwE8Kr",
        "outputId": "5ac756f4-d4e1-44ec-cfef-cf5eefa57f74"
      },
      "source": [
        "print(\"Tensorflow version \" + tf.__version__)"
      ],
      "execution_count": null,
      "outputs": [
        {
          "output_type": "stream",
          "text": [
            "Tensorflow version 2.5.0\n"
          ],
          "name": "stdout"
        }
      ]
    },
    {
      "cell_type": "code",
      "metadata": {
        "id": "hcEhpiAV5boY"
      },
      "source": [
        "#3616 COVID-19 positive, 10,192 Normal, 6012 Lung Opacity (Non-COVID lung infection) and 1345 Viral Pneumonia images\n",
        "#Datasets split as: 875 COVID-19 positive, 2125 Normal, 336 Viral Pneumonia (total 3336) per set\n",
        "#4 sets in total"
      ],
      "execution_count": null,
      "outputs": []
    },
    {
      "cell_type": "code",
      "metadata": {
        "id": "jxFrpIAQ4e3B"
      },
      "source": [
        "#@title Functions\n",
        "\n",
        "def create_dataset_multi(n):\n",
        "    arraycov = np.array([cv.imread(file, 0) for file in glob.glob('/content/COVID-19_Radiography_Dataset/COVID/*.png')])[875*(n-1):875*n]/255.0\n",
        "    arraynorm = np.array([cv.imread(file, 0) for file in glob.glob('/content/COVID-19_Radiography_Dataset/Normal/*.png')])[2125*(n-1):2125*n]/255.0\n",
        "    arraypneu = np.array([cv.imread(file, 0) for file in glob.glob('/content/COVID-19_Radiography_Dataset/Viral Pneumonia/*.png')])[336*(n-1):336*n]/225.0\n",
        "    print(\"Step 1: Completed\")\n",
        "\n",
        "    ncov = len(arraycov)\n",
        "    nnorm = len(arraynorm)\n",
        "    npneu = len(arraypneu)\n",
        "\n",
        "    data_x = np.vstack((arraycov, arraynorm, arraypneu))\n",
        "    data_y = np.zeros((ncov+nnorm+npneu,1))\n",
        "\n",
        "    for i in range(ncov):\n",
        "        data_y[i] = 1       \n",
        "    for i in range(ncov+nnorm,ncov+nnorm+npneu):\n",
        "        data_y[i] = 2    \n",
        "    print(\"Step 2: Completed\")\n",
        "\n",
        "    np.save(path + 'Datasets/data_set_multi' + str(n), data_x)\n",
        "    np.save(path + 'Datasets/feature_set_multi' + str(n), data_y)\n",
        "\n",
        "    print(\"Process Complete\")\n",
        "\n",
        "def train_test_data_multi(dataset_num, blur_index):\n",
        "    data_x = np.load(path + 'Datasets/data_set_multi' + str(dataset_num) + '.npy')\n",
        "    data_y = np.load(path + 'Datasets/feature_set_multi' + str(dataset_num) + '.npy')\n",
        "\n",
        "    data_x = cv.GaussianBlur(data_x, (3, 3), blur_index)\n",
        "\n",
        "    sss = StratifiedShuffleSplit(n_splits = 10, test_size = 0.3, random_state = 69)\n",
        "    for train_index, test_index in sss.split(data_x, data_y):\n",
        "        train_x, train_y = data_x[train_index], data_y[train_index]\n",
        "        test_x, test_y = data_x[test_index], data_y[test_index]\n",
        "    \n",
        "    train_y = to_categorical(train_y)\n",
        "    test_y = to_categorical(test_y)\n",
        "    m_train = len(train_x)\n",
        "    m_test = len(test_x)\n",
        "    \n",
        "    train_x, test_x = train_x.reshape(m_train,299,299,1), test_x.reshape(m_test,299,299,1)\n",
        "\n",
        "    print(\"X data (Training set): \", train_x.shape)\n",
        "    print(\"Y data (Training set): \", train_y.shape)\n",
        "    print(\"X data (Test set): \", test_x.shape)\n",
        "    print(\"Y data (Test set): \", test_y.shape)\n",
        "\n",
        "    return train_x, train_y, test_x, test_y, m_train, m_test   "
      ],
      "execution_count": null,
      "outputs": []
    },
    {
      "cell_type": "markdown",
      "metadata": {
        "id": "Zaj5h51RAJOJ"
      },
      "source": [
        "##Importing Datasets"
      ]
    },
    {
      "cell_type": "code",
      "metadata": {
        "colab": {
          "base_uri": "https://localhost:8080/"
        },
        "id": "S3IlUBsB4R2C",
        "outputId": "12f159f6-e782-4368-f779-2c292772972a"
      },
      "source": [
        "train_x, train_y, test_x, test_y, m_train, m_test = train_test_data_multi(2, 3)"
      ],
      "execution_count": null,
      "outputs": [
        {
          "output_type": "stream",
          "text": [
            "X data (Training set):  (2335, 299, 299, 1)\n",
            "Y data (Training set):  (2335, 3)\n",
            "X data (Test set):  (1001, 299, 299, 1)\n",
            "Y data (Test set):  (1001, 3)\n"
          ],
          "name": "stdout"
        }
      ]
    },
    {
      "cell_type": "code",
      "metadata": {
        "colab": {
          "base_uri": "https://localhost:8080/"
        },
        "id": "bN7toTTehXCN",
        "outputId": "1bf6b7ac-f5be-4bae-acbe-19883d761742"
      },
      "source": [
        "train_x2, train_y2, test_x22, test_y2, m_train2, m_test2 = train_test_data_multi(3, 3)"
      ],
      "execution_count": null,
      "outputs": [
        {
          "output_type": "stream",
          "text": [
            "X data (Training set):  (2335, 299, 299, 1)\n",
            "Y data (Training set):  (2335, 3)\n",
            "X data (Test set):  (1001, 299, 299, 1)\n",
            "Y data (Test set):  (1001, 3)\n"
          ],
          "name": "stdout"
        }
      ]
    },
    {
      "cell_type": "markdown",
      "metadata": {
        "id": "rE4hpBvQAOQ6"
      },
      "source": [
        "##Model"
      ]
    },
    {
      "cell_type": "code",
      "metadata": {
        "id": "chjbajGW8m77"
      },
      "source": [
        "from keras.models import Sequential\n",
        "from keras.layers import Conv2D, Dense, MaxPool2D, Dropout, Flatten, BatchNormalization\n",
        "from keras.losses import CategoricalCrossentropy\n",
        "from keras.optimizers import SGD\n",
        "from keras import backend as k\n",
        "from tqdm.keras import TqdmCallback"
      ],
      "execution_count": null,
      "outputs": []
    },
    {
      "cell_type": "code",
      "metadata": {
        "id": "j4U3k6iGVwQF"
      },
      "source": [
        "def append_history(m1, m2):\n",
        "    m1.history['accuracy'] = np.append(m1.history['accuracy'], m2.history['accuracy'])\n",
        "    m1.history['val_accuracy'] = np.append(m1.history['val_accuracy'], m2.history['val_accuracy'])\n",
        "    m1.history['loss'] = np.append(m1.history['loss'], m2.history['loss'])\n",
        "    m1.history['val_loss'] = np.append(m1.history['val_loss'], m2.history['val_loss'])\n",
        "\n",
        "    return m1    "
      ],
      "execution_count": null,
      "outputs": []
    },
    {
      "cell_type": "code",
      "metadata": {
        "id": "cYs92h6qEttc"
      },
      "source": [
        "model = Sequential([\n",
        "                    Conv2D(96, (11,11), strides = (4,4), activation = 'relu', input_shape = (299,299,1)),\n",
        "                    MaxPool2D((3,3), strides = (2,2)),\n",
        "                    Conv2D(128, (5,5), strides = (1,1), activation = 'relu', padding = 'same'),\n",
        "                    BatchNormalization(),\n",
        "                    Conv2D(128, (5,5), strides = (1,1), activation = 'relu', padding = 'same'),\n",
        "                    MaxPool2D((3,3), strides = (2,2)),\n",
        "                    Dropout(0.5),\n",
        "                    Conv2D(128, (5,5), strides = (1,1), activation = 'relu', padding = 'same'),\n",
        "                    BatchNormalization(),\n",
        "                    Conv2D(128, (5,5), strides = (1,1), activation = 'relu', padding = 'same'),\n",
        "                    MaxPool2D((3,3), strides = (2,2)),\n",
        "                    Dropout(0.2),\n",
        "                    Conv2D(128, (5,5), strides = (1,1), groups = 2, activation = 'relu', padding = 'same'),\n",
        "                    MaxPool2D((3,3), strides = (2,2)),\n",
        "                    Flatten(),\n",
        "                    Dense(256, activation = 'relu'),\n",
        "                    Dense(128, activation = 'relu'),\n",
        "                    Dense(3, activation = 'softmax')\n",
        "  ])"
      ],
      "execution_count": null,
      "outputs": []
    },
    {
      "cell_type": "code",
      "metadata": {
        "colab": {
          "base_uri": "https://localhost:8080/"
        },
        "id": "FHcMLXfI7J1u",
        "outputId": "83fb6f7a-edff-4577-c14b-3018f2117627"
      },
      "source": [
        "model.summary()"
      ],
      "execution_count": null,
      "outputs": [
        {
          "output_type": "stream",
          "text": [
            "Model: \"sequential_1\"\n",
            "_________________________________________________________________\n",
            "Layer (type)                 Output Shape              Param #   \n",
            "=================================================================\n",
            "conv2d_6 (Conv2D)            (None, 73, 73, 96)        11712     \n",
            "_________________________________________________________________\n",
            "max_pooling2d_4 (MaxPooling2 (None, 36, 36, 96)        0         \n",
            "_________________________________________________________________\n",
            "conv2d_7 (Conv2D)            (None, 36, 36, 128)       307328    \n",
            "_________________________________________________________________\n",
            "batch_normalization_2 (Batch (None, 36, 36, 128)       512       \n",
            "_________________________________________________________________\n",
            "conv2d_8 (Conv2D)            (None, 36, 36, 128)       409728    \n",
            "_________________________________________________________________\n",
            "max_pooling2d_5 (MaxPooling2 (None, 17, 17, 128)       0         \n",
            "_________________________________________________________________\n",
            "dropout_2 (Dropout)          (None, 17, 17, 128)       0         \n",
            "_________________________________________________________________\n",
            "conv2d_9 (Conv2D)            (None, 17, 17, 128)       409728    \n",
            "_________________________________________________________________\n",
            "batch_normalization_3 (Batch (None, 17, 17, 128)       512       \n",
            "_________________________________________________________________\n",
            "conv2d_10 (Conv2D)           (None, 17, 17, 128)       409728    \n",
            "_________________________________________________________________\n",
            "max_pooling2d_6 (MaxPooling2 (None, 8, 8, 128)         0         \n",
            "_________________________________________________________________\n",
            "dropout_3 (Dropout)          (None, 8, 8, 128)         0         \n",
            "_________________________________________________________________\n",
            "conv2d_11 (Conv2D)           (None, 8, 8, 128)         204928    \n",
            "_________________________________________________________________\n",
            "max_pooling2d_7 (MaxPooling2 (None, 3, 3, 128)         0         \n",
            "_________________________________________________________________\n",
            "flatten_1 (Flatten)          (None, 1152)              0         \n",
            "_________________________________________________________________\n",
            "dense_3 (Dense)              (None, 256)               295168    \n",
            "_________________________________________________________________\n",
            "dense_4 (Dense)              (None, 128)               32896     \n",
            "_________________________________________________________________\n",
            "dense_5 (Dense)              (None, 3)                 387       \n",
            "=================================================================\n",
            "Total params: 2,082,627\n",
            "Trainable params: 2,082,115\n",
            "Non-trainable params: 512\n",
            "_________________________________________________________________\n"
          ],
          "name": "stdout"
        }
      ]
    },
    {
      "cell_type": "code",
      "metadata": {
        "id": "69J0hAY7-z__"
      },
      "source": [
        "optimizer = SGD(learning_rate = 0.01, momentum = 0.9)\n",
        "model.compile(optimizer = optimizer, loss = CategoricalCrossentropy(), metrics = ['accuracy'])"
      ],
      "execution_count": null,
      "outputs": []
    },
    {
      "cell_type": "code",
      "metadata": {
        "colab": {
          "base_uri": "https://localhost:8080/",
          "height": 116,
          "referenced_widgets": [
            "05db9794215c45f69f092cc9fbea6627",
            "678942f9564e4549865b4e1fe8bb5d59",
            "ca9f89a17c9d476592109eeddc4de501",
            "75bccf5256ef4988bcd33d6ef87d54a6",
            "6258abbde4634db9b2c024589f460a78",
            "916a08428b4d4fe68767d5c03e42d713",
            "d6be490248e94c4987a6b5b080d2957c",
            "e23f19d547544c8487b4f8ae582ad7a9",
            "4c2c6f02b68d4c2aab38748476de4120",
            "37f52856b18e464090eccbded2f2c64d",
            "5cc9a77d675644b8b220cd3cb9933100",
            "0187dd1165184b108e83e5206ce1d2a7",
            "b258be056d3340009a0748456706e854",
            "070b2e90b28047d6a2aaca12c552e641",
            "f50e2c4e9e4f43bdbb705773bf965bad",
            "34e5f274464b4621af75e0a6869d4559"
          ]
        },
        "id": "Z6ous0As-hWL",
        "outputId": "49b52ebd-e540-4bc5-d677-4a8ee1f358da"
      },
      "source": [
        "history = model.fit(train_x, train_y, batch_size = 64, \n",
        "                    validation_data = (test_x,test_y), validation_batch_size = 64, \n",
        "                    epochs = 100, verbose = 0, callbacks = [TqdmCallback(verbose=0)])\n",
        "\n",
        "k.set_value(model.optimizer.learning_rate, 0.0001)\n",
        "\n",
        "history1 = model.fit(train_x2, train_y2, batch_size = 64, \n",
        "                     validation_data = (test_x,test_y), validation_batch_size = 64, \n",
        "                     epochs = 400, verbose = 0, callbacks = [TqdmCallback(verbose=0)])"
      ],
      "execution_count": null,
      "outputs": [
        {
          "output_type": "display_data",
          "data": {
            "application/vnd.jupyter.widget-view+json": {
              "model_id": "05db9794215c45f69f092cc9fbea6627",
              "version_minor": 0,
              "version_major": 2
            },
            "text/plain": [
              "HBox(children=(FloatProgress(value=1.0, bar_style='info', max=1.0), HTML(value='')))"
            ]
          },
          "metadata": {
            "tags": []
          }
        },
        {
          "output_type": "stream",
          "text": [
            "\n"
          ],
          "name": "stdout"
        },
        {
          "output_type": "display_data",
          "data": {
            "application/vnd.jupyter.widget-view+json": {
              "model_id": "4c2c6f02b68d4c2aab38748476de4120",
              "version_minor": 0,
              "version_major": 2
            },
            "text/plain": [
              "HBox(children=(FloatProgress(value=1.0, bar_style='info', max=1.0), HTML(value='')))"
            ]
          },
          "metadata": {
            "tags": []
          }
        },
        {
          "output_type": "stream",
          "text": [
            "\n"
          ],
          "name": "stdout"
        }
      ]
    },
    {
      "cell_type": "code",
      "metadata": {
        "id": "1Cqf5qAY-g2r",
        "colab": {
          "base_uri": "https://localhost:8080/"
        },
        "outputId": "37245f5e-63f8-4b7c-ac6c-3e852cd8e368"
      },
      "source": [
        "model.evaluate(test_x, test_y)"
      ],
      "execution_count": null,
      "outputs": [
        {
          "output_type": "stream",
          "text": [
            "32/32 [==============================] - 1s 20ms/step - loss: 0.1399 - accuracy: 0.9600\n"
          ],
          "name": "stdout"
        },
        {
          "output_type": "execute_result",
          "data": {
            "text/plain": [
              "[0.13994142413139343, 0.9600399732589722]"
            ]
          },
          "metadata": {
            "tags": []
          },
          "execution_count": 28
        }
      ]
    },
    {
      "cell_type": "code",
      "metadata": {
        "id": "4gLC2vFz-gjz",
        "colab": {
          "base_uri": "https://localhost:8080/",
          "height": 336
        },
        "outputId": "e880adc5-9424-4d24-bf31-cf274afd26ba"
      },
      "source": [
        "history = append_history(history, history1)\n",
        "\n",
        "plt.figure(figsize = (10,5))\n",
        "plt.subplot(121)\n",
        "plt.plot(history.history['accuracy'], label='Train')\n",
        "plt.plot(history.history['val_accuracy'], label='Test')\n",
        "plt.title(\"Accuracy\")\n",
        "plt.legend()\n",
        "\n",
        "plt.subplot(122)\n",
        "plt.plot(history.history['loss'], label='Train')\n",
        "plt.plot(history.history['val_loss'], label='Test')\n",
        "plt.title(\"Loss\")\n",
        "plt.legend()\n",
        "\n",
        "plt.show()"
      ],
      "execution_count": null,
      "outputs": [
        {
          "output_type": "display_data",
          "data": {
            "image/png": "[encoded data removed]",
            "text/plain": [
              "<Figure size 720x360 with 2 Axes>"
            ]
          },
          "metadata": {
            "tags": [],
            "needs_background": "light"
          }
        }
      ]
    },
    {
      "cell_type": "code",
      "metadata": {
        "id": "Zz9mZJ-u_hp4"
      },
      "source": [
        "model.save(path + 'Models/set2_multi_v2.h5')"
      ],
      "execution_count": null,
      "outputs": []
    },
    {
      "cell_type": "code",
      "metadata": {
        "id": "e_EtLMxeDAGn"
      },
      "source": [
        "from keras.models import load_model\n",
        "model2 = load_model(path + 'Models/set2_multi_v2.h5')"
      ],
      "execution_count": null,
      "outputs": []
    },
    {
      "cell_type": "code",
      "metadata": {
        "colab": {
          "base_uri": "https://localhost:8080/"
        },
        "id": "r-ntpHeiFeqj",
        "outputId": "61c48bd0-0825-426c-913d-15814225515b"
      },
      "source": [
        "results = np.array((model2.evaluate(test_x, test_y),\n",
        "                   model2.evaluate(test_x22, test_y2)))\n",
        "np.average(results, axis = 0)"
      ],
      "execution_count": null,
      "outputs": [
        {
          "output_type": "stream",
          "text": [
            "32/32 [==============================] - 1s 20ms/step - loss: 0.1399 - accuracy: 0.9600\n",
            "32/32 [==============================] - 1s 18ms/step - loss: 0.1411 - accuracy: 0.9620\n"
          ],
          "name": "stdout"
        },
        {
          "output_type": "execute_result",
          "data": {
            "text/plain": [
              "array([0.14050549, 0.96103898])"
            ]
          },
          "metadata": {
            "tags": []
          },
          "execution_count": 33
        }
      ]
    },
    {
      "cell_type": "code",
      "metadata": {
        "id": "Ix0lcGFYWyss",
        "cellView": "form"
      },
      "source": [
        "#@title\n",
        "#EPOCHS = 12\n",
        "\n",
        "#start_lr = 0.00001\n",
        "#min_lr = 0.00001\n",
        "#max_lr = 0.00005 * tpu_strategy.num_replicas_in_sync\n",
        "#rampup_epochs = 5\n",
        "#sustain_epochs = 0\n",
        "#exp_decay = .8\n",
        "\n",
        "#def lrfn(epoch):\n",
        "#  if epoch < rampup_epochs:\n",
        "#    return (max_lr - start_lr)/rampup_epochs * epoch + start_lr\n",
        "#  elif epoch < rampup_epochs + sustain_epochs:\n",
        "#    return max_lr\n",
        "#  else:\n",
        "#    return (max_lr - min_lr) * exp_decay**(epoch-rampup_epochs-sustain_epochs) + min_lr\n",
        "    \n",
        "#lr_callback = tf.keras.callbacks.LearningRateScheduler(lambda epoch: lrfn(epoch), verbose=True)\n",
        "\n",
        "#rang = np.arange(EPOCHS)\n",
        "#y = [lrfn(x) for x in rang]\n",
        "#plt.plot(rang, y)\n",
        "#print('Learning rate per epoch:')"
      ],
      "execution_count": null,
      "outputs": []
    },
    {
      "cell_type": "code",
      "metadata": {
        "id": "EZagghsfXk4s",
        "cellView": "form"
      },
      "source": [
        "#@title\n",
        "#history = model.fit(train_x, train_y, validation_data=(test_x, test_y),\n",
        "#                    steps_per_epoch = train_steps, epochs=EPOCHS, callbacks=[lr_callback])\n",
        "\n",
        "#final_accuracy = history.history[\"val_accuracy\"][-5:]\n",
        "#print(\"FINAL ACCURACY MEAN-5: \", np.mean(final_accuracy))"
      ],
      "execution_count": null,
      "outputs": []
    }
  ]
}
